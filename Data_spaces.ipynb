{
 "cells": [
  {
   "cell_type": "code",
   "execution_count": 1,
   "metadata": {},
   "outputs": [],
   "source": [
    "import numpy as np\n",
    "import pandas as pd\n",
    "from matplotlib.colors import ListedColormap\n",
    "import matplotlib.pyplot as plt\n",
    "from sklearn.svm import SVC, SVR\n",
    "from sklearn import metrics\n",
    "from sklearn.neighbors import KNeighborsClassifier\n",
    "from sklearn.metrics import classification_report\n",
    "from sklearn.model_selection import GridSearchCV\n",
    "from sklearn.model_selection import train_test_split\n",
    "from sklearn.preprocessing import StandardScaler\n",
    "from sklearn.feature_selection import RFE, RFECV\n",
    "from sklearn.linear_model import LogisticRegression\n",
    "from sklearn.ensemble import ExtraTreesClassifier\n",
    "\n"
   ]
  },
  {
   "cell_type": "code",
   "execution_count": 2,
   "metadata": {},
   "outputs": [
    {
     "data": {
      "text/plain": [
       "False"
      ]
     },
     "execution_count": 2,
     "metadata": {},
     "output_type": "execute_result"
    }
   ],
   "source": [
    "data=pd.read_csv(r\"C:\\Users\\xazar\\Downloads\\parkinsons_data.txt\")\n",
    "data.head()\n",
    "data.isnull().values.any()\n",
    "\n",
    "#scale is needed"
   ]
  },
  {
   "cell_type": "code",
   "execution_count": 3,
   "metadata": {},
   "outputs": [
    {
     "name": "stdout",
     "output_type": "stream",
     "text": [
      "(195, 24)\n"
     ]
    }
   ],
   "source": [
    "print(data.shape)"
   ]
  },
  {
   "cell_type": "code",
   "execution_count": 4,
   "metadata": {},
   "outputs": [],
   "source": [
    "data_l=data.status.values"
   ]
  },
  {
   "cell_type": "code",
   "execution_count": 5,
   "metadata": {
    "scrolled": true
   },
   "outputs": [
    {
     "name": "stdout",
     "output_type": "stream",
     "text": [
      "[1 1 1 1 1 1 1 1 1 1 1 1 1 1 1 1 1 1 1 1 1 1 1 1 1 1 1 1 1 1 0 0 0 0 0 0 1\n",
      " 1 1 1 1 1 0 0 0 0 0 0 0 0 0 0 0 0 1 1 1 1 1 1 0 0 0 0 0 0 1 1 1 1 1 1 1 1\n",
      " 1 1 1 1 1 1 1 1 1 1 1 1 1 1 1 1 1 1 1 1 1 1 1 1 1 1 1 1 1 1 1 1 1 1 1 1 1\n",
      " 1 1 1 1 1 1 1 1 1 1 1 1 1 1 1 1 1 1 1 1 1 1 1 1 1 1 1 1 1 1 1 1 1 1 1 1 1\n",
      " 1 1 1 1 1 1 1 1 1 1 1 1 1 1 1 1 1 0 0 0 0 0 0 0 0 0 0 0 0 1 1 1 1 1 1 0 0\n",
      " 0 0 0 0 0 0 0 0 0 0]\n"
     ]
    }
   ],
   "source": [
    "print(data_l)"
   ]
  },
  {
   "cell_type": "code",
   "execution_count": 6,
   "metadata": {},
   "outputs": [],
   "source": [
    "#data_f=data.iloc[:, data.columns != 'status' and data.columns !='name']\n",
    "#data_f=data.iloc[:, data.columns != 's']\n",
    "data_f=data.loc[:, ~data.columns.isin(['status', 'name'])].values \n",
    "#data_f=data.loc[:, ~data.columns.isin(['status'])].values\n",
    "\n"
   ]
  },
  {
   "cell_type": "code",
   "execution_count": null,
   "metadata": {
    "scrolled": false
   },
   "outputs": [],
   "source": []
  },
  {
   "cell_type": "code",
   "execution_count": 7,
   "metadata": {},
   "outputs": [
    {
     "data": {
      "text/plain": [
       "(195, 22)"
      ]
     },
     "execution_count": 7,
     "metadata": {},
     "output_type": "execute_result"
    }
   ],
   "source": [
    "data_f.shape"
   ]
  },
  {
   "cell_type": "code",
   "execution_count": 8,
   "metadata": {},
   "outputs": [],
   "source": [
    "scaler = StandardScaler()\n",
    "data_scaled = scaler.fit_transform(data_f)"
   ]
  },
  {
   "cell_type": "code",
   "execution_count": 9,
   "metadata": {},
   "outputs": [],
   "source": [
    "x_train, x_test, y_train, y_test = train_test_split(data_scaled, data_l, test_size=0.5, random_state=2) #random_state option added to keep same distribution in multiple code running\n",
    "x_test, x_val, y_test, y_val = train_test_split(x_test, y_test, test_size=0.4, random_state=2)"
   ]
  },
  {
   "cell_type": "code",
   "execution_count": 10,
   "metadata": {},
   "outputs": [
    {
     "name": "stdout",
     "output_type": "stream",
     "text": [
      "(97, 22)\n",
      "(40, 22)\n",
      "(58, 22)\n"
     ]
    }
   ],
   "source": [
    "print(x_train.shape)\n",
    "print(x_val.shape)\n",
    "print(x_test.shape)"
   ]
  },
  {
   "cell_type": "code",
   "execution_count": 11,
   "metadata": {},
   "outputs": [],
   "source": [
    "#model = LogisticRegression()\n",
    "#rfe = RFE(model, 10)\n",
    "#fit = rfe.fit(x_train, y_train)\n",
    "#print(\"Num Features: %s\" % (fit.n_features_))\n",
    "#print(\"Selected Features: %s\" % (fit.support_))\n",
    "#print(\"Feature Ranking: %s\" % (fit.ranking_))"
   ]
  },
  {
   "cell_type": "code",
   "execution_count": 12,
   "metadata": {},
   "outputs": [
    {
     "name": "stdout",
     "output_type": "stream",
     "text": [
      "[ True False False  True  True False False  True  True False  True False\n",
      "  True False False False False False  True False False False]\n"
     ]
    }
   ],
   "source": [
    "estimator =  SVR(kernel=\"linear\", C=100)\n",
    "selector = RFECV(estimator, step=1, cv=5)\n",
    "selector = selector.fit(x_train, y_train)\n",
    "\n",
    "#print(selector.ranking_)\n",
    "print(selector.support_ )\n"
   ]
  },
  {
   "cell_type": "code",
   "execution_count": 13,
   "metadata": {},
   "outputs": [
    {
     "name": "stdout",
     "output_type": "stream",
     "text": [
      "[ True False False  True  True False False  True  True False  True False\n",
      "  True False False False False False  True False False False]\n"
     ]
    }
   ],
   "source": [
    "#preparing train, validation and test data with only important features provided by RFECV\n",
    "x_strain=x_train[:, selector.support_]\n",
    "x_sval=x_val[:, selector.support_]\n",
    "x_stest=x_test[:, selector.support_]\n",
    "\n"
   ]
  },
  {
   "cell_type": "code",
   "execution_count": 15,
   "metadata": {},
   "outputs": [
    {
     "name": "stdout",
     "output_type": "stream",
     "text": [
      "[0.10989622 0.04759658 0.05702336 0.02500411 0.0514383  0.02366329\n",
      " 0.02812853 0.02549031 0.03018786 0.03192049 0.02698139 0.02638589\n",
      " 0.04284915 0.02846386 0.02201974 0.03183973 0.03435991 0.03531432\n",
      " 0.14513517 0.04707091 0.02808333 0.10114755]\n"
     ]
    },
    {
     "data": {
      "image/png": "[encoded data removed]",
      "text/plain": [
       "<Figure size 1120x800 with 1 Axes>"
      ]
     },
     "metadata": {},
     "output_type": "display_data"
    }
   ],
   "source": [
    "etc = ExtraTreesClassifier(n_estimators=300)\n",
    "etc.fit(x_train, y_train)\n",
    "print(etc.feature_importances_)\n",
    "indices = np.argsort(etc.feature_importances_)[::-1]\n",
    "plt.figure(num=None, figsize=(14, 10), dpi=80, facecolor='w')\n",
    "plt.title(\"Feature importances\")\n",
    "plt.bar(range(data_f.shape[1]), etc.feature_importances_[indices],\n",
    "       color=\"r\", align=\"center\")\n",
    "plt.xticks(range(data_f.shape[1]), indices)\n",
    "plt.show()\n",
    "\n",
    "\n"
   ]
  },
  {
   "cell_type": "code",
   "execution_count": 16,
   "metadata": {},
   "outputs": [
    {
     "name": "stdout",
     "output_type": "stream",
     "text": [
      "[True, True, True, False, True, False, False, False, False, False, False, False, True, False, False, False, False, False, True, True, False, True]\n"
     ]
    }
   ],
   "source": [
    "#preparing train, validation and test data with only important features provided by forest of trees\n",
    "extree=[0]*22\n",
    "i=0\n",
    "while i<22:\n",
    "    if(i<8):\n",
    "        extree[indices[i]]=True\n",
    "    else:\n",
    "        extree[indices[i]]=False\n",
    "    i=i+1\n",
    "\n",
    "print(extree)\n",
    "\n",
    "x_exval=x_val[:, extree]\n",
    "x_extrain=x_train[:, extree]\n",
    "x_extest=x_test[:, extree] \n"
   ]
  },
  {
   "cell_type": "code",
   "execution_count": 17,
   "metadata": {},
   "outputs": [
    {
     "name": "stdout",
     "output_type": "stream",
     "text": [
      "4\n"
     ]
    }
   ],
   "source": [
    "my=0\n",
    "say=0\n",
    "while my<len(extree):\n",
    "    if(extree[my] and selector.support_[my]):\n",
    "        say=say+1\n",
    "    \n",
    "    my=my+1\n",
    "\n",
    "print(say) #how many common important features provided by RFECV and forest of trees"
   ]
  },
  {
   "cell_type": "code",
   "execution_count": 77,
   "metadata": {},
   "outputs": [],
   "source": [
    "k=[1,3,5,7]\n",
    "acc=[0]*5\n",
    "\n"
   ]
  },
  {
   "cell_type": "code",
   "execution_count": 78,
   "metadata": {},
   "outputs": [
    {
     "name": "stdout",
     "output_type": "stream",
     "text": [
      "Prediction accuracy for k= 1 :  0.9655172413793104\n",
      "Classification report for k= 1 : \n",
      "               precision    recall  f1-score   support\n",
      "\n",
      "           0       1.00      0.80      0.89        10\n",
      "           1       0.96      1.00      0.98        48\n",
      "\n",
      "    accuracy                           0.97        58\n",
      "   macro avg       0.98      0.90      0.93        58\n",
      "weighted avg       0.97      0.97      0.96        58\n",
      "\n",
      "Prediction accuracy for k= 3 :  0.9655172413793104\n",
      "Classification report for k= 3 : \n",
      "               precision    recall  f1-score   support\n",
      "\n",
      "           0       1.00      0.80      0.89        10\n",
      "           1       0.96      1.00      0.98        48\n",
      "\n",
      "    accuracy                           0.97        58\n",
      "   macro avg       0.98      0.90      0.93        58\n",
      "weighted avg       0.97      0.97      0.96        58\n",
      "\n",
      "Prediction accuracy for k= 5 :  0.9482758620689655\n",
      "Classification report for k= 5 : \n",
      "               precision    recall  f1-score   support\n",
      "\n",
      "           0       1.00      0.70      0.82        10\n",
      "           1       0.94      1.00      0.97        48\n",
      "\n",
      "    accuracy                           0.95        58\n",
      "   macro avg       0.97      0.85      0.90        58\n",
      "weighted avg       0.95      0.95      0.94        58\n",
      "\n",
      "Prediction accuracy for k= 7 :  0.9482758620689655\n",
      "Classification report for k= 7 : \n",
      "               precision    recall  f1-score   support\n",
      "\n",
      "           0       1.00      0.70      0.82        10\n",
      "           1       0.94      1.00      0.97        48\n",
      "\n",
      "    accuracy                           0.95        58\n",
      "   macro avg       0.97      0.85      0.90        58\n",
      "weighted avg       0.95      0.95      0.94        58\n",
      "\n"
     ]
    }
   ],
   "source": [
    "i=0\n",
    "while i<len(k):\n",
    "    # we create an instance of Neighbours Classifier and fit the data.\n",
    "        knn= KNeighborsClassifier(n_neighbors=k[i])\n",
    "        knn.fit(fmerge_full, lmerge)\n",
    "        y_res=knn.predict(x_test)\n",
    "        print('Prediction accuracy for k=',k[i],': ', metrics.accuracy_score(y_test, y_res))\n",
    "        print('Classification report for k=',k[i],': \\n', classification_report(y_test,y_res)) \n",
    "        i=i+1\n",
    "        \n"
   ]
  },
  {
   "cell_type": "code",
   "execution_count": 33,
   "metadata": {},
   "outputs": [
    {
     "name": "stdout",
     "output_type": "stream",
     "text": [
      "Classification report for C= 0.1 :                precision    recall  f1-score   support\n",
      "\n",
      "           0       0.00      0.00      0.00        14\n",
      "           1       0.65      1.00      0.79        26\n",
      "\n",
      "    accuracy                           0.65        40\n",
      "   macro avg       0.33      0.50      0.39        40\n",
      "weighted avg       0.42      0.65      0.51        40\n",
      "\n",
      "Classification report for C= 1 :                precision    recall  f1-score   support\n",
      "\n",
      "           0       0.78      0.50      0.61        14\n",
      "           1       0.77      0.92      0.84        26\n",
      "\n",
      "    accuracy                           0.78        40\n",
      "   macro avg       0.78      0.71      0.73        40\n",
      "weighted avg       0.78      0.78      0.76        40\n",
      "\n",
      "Classification report for C= 10 :                precision    recall  f1-score   support\n",
      "\n",
      "           0       0.80      0.57      0.67        14\n",
      "           1       0.80      0.92      0.86        26\n",
      "\n",
      "    accuracy                           0.80        40\n",
      "   macro avg       0.80      0.75      0.76        40\n",
      "weighted avg       0.80      0.80      0.79        40\n",
      "\n",
      "Classification report for C= 100 :                precision    recall  f1-score   support\n",
      "\n",
      "           0       0.69      0.64      0.67        14\n",
      "           1       0.81      0.85      0.83        26\n",
      "\n",
      "    accuracy                           0.78        40\n",
      "   macro avg       0.75      0.74      0.75        40\n",
      "weighted avg       0.77      0.78      0.77        40\n",
      "\n",
      "Classification report for C= 1000 :                precision    recall  f1-score   support\n",
      "\n",
      "           0       0.69      0.64      0.67        14\n",
      "           1       0.81      0.85      0.83        26\n",
      "\n",
      "    accuracy                           0.78        40\n",
      "   macro avg       0.75      0.74      0.75        40\n",
      "weighted avg       0.77      0.78      0.77        40\n",
      "\n"
     ]
    },
    {
     "name": "stderr",
     "output_type": "stream",
     "text": [
      "C:\\Users\\xazar\\anaconda3\\lib\\site-packages\\sklearn\\metrics\\_classification.py:1272: UndefinedMetricWarning: Precision and F-score are ill-defined and being set to 0.0 in labels with no predicted samples. Use `zero_division` parameter to control this behavior.\n",
      "  _warn_prf(average, modifier, msg_start, len(result))\n"
     ]
    }
   ],
   "source": [
    "\n",
    "def mytest(algo):  \n",
    "    C = [ 0.1, 1, 10, 100,1000]\n",
    "    count=0\n",
    "    accl=[0]*7\n",
    "    while count<len(C):\n",
    "        lsvc = SVC(C=C[count], kernel=algo)\n",
    "        lsvc.fit(x_train, y_train)\n",
    "        lres=lsvc.predict(x_val)\n",
    "        print('Classification report for C=',C[count],': ', classification_report(y_val,lres))\n",
    "        #accl[count]=classification_report(y_val,lres)           \n",
    "        count=count+1\n",
    "        \n",
    "    \n",
    "    \n",
    "   \n",
    "   \n",
    "    \n",
    "\n",
    "mytest('rbf')\n",
    "\n"
   ]
  },
  {
   "cell_type": "code",
   "execution_count": 21,
   "metadata": {},
   "outputs": [],
   "source": [
    "\n",
    "\n",
    "def tuning(train_data, labels, target_feature, target_label, cv=3): #as cv is 3 by default\n",
    "        svc_parameters = [{'kernel': ['rbf'], 'gamma': [0.001,0.01, 0.1, 1],\n",
    "                             'C': [0.1, 1, 10, 100, 1000]}] #these values produced better results in accuracy\n",
    "        \n",
    "        scores = ['precision', 'recall']\n",
    "        \n",
    "        for score in scores:\n",
    "            print(\"# Tuning hyper-parameters for %s\" % score)\n",
    "            print()\n",
    "        \n",
    "            clf = GridSearchCV(SVC(), svc_parameters, cv=cv,\n",
    "                               scoring='%s_macro' % score)\n",
    "            clf.fit(train_data, labels)\n",
    "        \n",
    "            print(\"Best parameters set found on development set:\")\n",
    "            print()\n",
    "            print(clf.best_params_)\n",
    "            print()\n",
    "            print(\"Grid scores on development set:\")\n",
    "            print()\n",
    "            means = clf.cv_results_['mean_test_score']\n",
    "            stds = clf.cv_results_['std_test_score']\n",
    "            for mean, std, params in zip(means, stds, clf.cv_results_['params']):\n",
    "                print(\"%0.3f (+/-%0.03f) for %r\"\n",
    "                      % (mean, std * 2, params))\n",
    "            print()\n",
    "        \n",
    "            print(\"Detailed classification report:\")\n",
    "            print()\n",
    "            print(\"The model is trained on the full development set.\")\n",
    "            print(\"The scores are computed on the full evaluation set.\")\n",
    "            print()\n",
    "            y_true, y_pred = target_label, clf.predict(target_feature)\n",
    "            print(classification_report(y_true, y_pred))\n",
    "            print()\n",
    "    \n",
    "    # for diagnosis problem recall is more important feature than precision so we should maximize recall"
   ]
  },
  {
   "cell_type": "code",
   "execution_count": 22,
   "metadata": {},
   "outputs": [
    {
     "name": "stdout",
     "output_type": "stream",
     "text": [
      "(137, 8) (137,) (137, 22)\n"
     ]
    }
   ],
   "source": [
    "fmerge=np.concatenate((x_extrain,x_exval)) # merged train features WITH feature selection\n",
    "lmerge=np.concatenate((y_train,y_val)) # merged train and vald labels # same for with and without feature selection\n",
    "fmerge_full=np.concatenate((x_train, x_val)) #merged train features WITHOUT feature selection\n",
    "\n",
    "print(fmerge.shape, lmerge.shape, fmerge_full.shape)\n"
   ]
  },
  {
   "cell_type": "code",
   "execution_count": 79,
   "metadata": {},
   "outputs": [
    {
     "name": "stdout",
     "output_type": "stream",
     "text": [
      "# Tuning hyper-parameters for precision\n",
      "\n"
     ]
    },
    {
     "name": "stderr",
     "output_type": "stream",
     "text": [
      "C:\\Users\\xazar\\anaconda3\\lib\\site-packages\\sklearn\\metrics\\_classification.py:1272: UndefinedMetricWarning: Precision is ill-defined and being set to 0.0 in labels with no predicted samples. Use `zero_division` parameter to control this behavior.\n",
      "  _warn_prf(average, modifier, msg_start, len(result))\n",
      "C:\\Users\\xazar\\anaconda3\\lib\\site-packages\\sklearn\\metrics\\_classification.py:1272: UndefinedMetricWarning: Precision is ill-defined and being set to 0.0 in labels with no predicted samples. Use `zero_division` parameter to control this behavior.\n",
      "  _warn_prf(average, modifier, msg_start, len(result))\n",
      "C:\\Users\\xazar\\anaconda3\\lib\\site-packages\\sklearn\\metrics\\_classification.py:1272: UndefinedMetricWarning: Precision is ill-defined and being set to 0.0 in labels with no predicted samples. Use `zero_division` parameter to control this behavior.\n",
      "  _warn_prf(average, modifier, msg_start, len(result))\n",
      "C:\\Users\\xazar\\anaconda3\\lib\\site-packages\\sklearn\\metrics\\_classification.py:1272: UndefinedMetricWarning: Precision is ill-defined and being set to 0.0 in labels with no predicted samples. Use `zero_division` parameter to control this behavior.\n",
      "  _warn_prf(average, modifier, msg_start, len(result))\n",
      "C:\\Users\\xazar\\anaconda3\\lib\\site-packages\\sklearn\\metrics\\_classification.py:1272: UndefinedMetricWarning: Precision is ill-defined and being set to 0.0 in labels with no predicted samples. Use `zero_division` parameter to control this behavior.\n",
      "  _warn_prf(average, modifier, msg_start, len(result))\n",
      "C:\\Users\\xazar\\anaconda3\\lib\\site-packages\\sklearn\\metrics\\_classification.py:1272: UndefinedMetricWarning: Precision is ill-defined and being set to 0.0 in labels with no predicted samples. Use `zero_division` parameter to control this behavior.\n",
      "  _warn_prf(average, modifier, msg_start, len(result))\n",
      "C:\\Users\\xazar\\anaconda3\\lib\\site-packages\\sklearn\\metrics\\_classification.py:1272: UndefinedMetricWarning: Precision is ill-defined and being set to 0.0 in labels with no predicted samples. Use `zero_division` parameter to control this behavior.\n",
      "  _warn_prf(average, modifier, msg_start, len(result))\n",
      "C:\\Users\\xazar\\anaconda3\\lib\\site-packages\\sklearn\\metrics\\_classification.py:1272: UndefinedMetricWarning: Precision is ill-defined and being set to 0.0 in labels with no predicted samples. Use `zero_division` parameter to control this behavior.\n",
      "  _warn_prf(average, modifier, msg_start, len(result))\n",
      "C:\\Users\\xazar\\anaconda3\\lib\\site-packages\\sklearn\\metrics\\_classification.py:1272: UndefinedMetricWarning: Precision is ill-defined and being set to 0.0 in labels with no predicted samples. Use `zero_division` parameter to control this behavior.\n",
      "  _warn_prf(average, modifier, msg_start, len(result))\n",
      "C:\\Users\\xazar\\anaconda3\\lib\\site-packages\\sklearn\\metrics\\_classification.py:1272: UndefinedMetricWarning: Precision is ill-defined and being set to 0.0 in labels with no predicted samples. Use `zero_division` parameter to control this behavior.\n",
      "  _warn_prf(average, modifier, msg_start, len(result))\n",
      "C:\\Users\\xazar\\anaconda3\\lib\\site-packages\\sklearn\\metrics\\_classification.py:1272: UndefinedMetricWarning: Precision is ill-defined and being set to 0.0 in labels with no predicted samples. Use `zero_division` parameter to control this behavior.\n",
      "  _warn_prf(average, modifier, msg_start, len(result))\n",
      "C:\\Users\\xazar\\anaconda3\\lib\\site-packages\\sklearn\\metrics\\_classification.py:1272: UndefinedMetricWarning: Precision is ill-defined and being set to 0.0 in labels with no predicted samples. Use `zero_division` parameter to control this behavior.\n",
      "  _warn_prf(average, modifier, msg_start, len(result))\n",
      "C:\\Users\\xazar\\anaconda3\\lib\\site-packages\\sklearn\\metrics\\_classification.py:1272: UndefinedMetricWarning: Precision is ill-defined and being set to 0.0 in labels with no predicted samples. Use `zero_division` parameter to control this behavior.\n",
      "  _warn_prf(average, modifier, msg_start, len(result))\n",
      "C:\\Users\\xazar\\anaconda3\\lib\\site-packages\\sklearn\\metrics\\_classification.py:1272: UndefinedMetricWarning: Precision is ill-defined and being set to 0.0 in labels with no predicted samples. Use `zero_division` parameter to control this behavior.\n",
      "  _warn_prf(average, modifier, msg_start, len(result))\n",
      "C:\\Users\\xazar\\anaconda3\\lib\\site-packages\\sklearn\\metrics\\_classification.py:1272: UndefinedMetricWarning: Precision is ill-defined and being set to 0.0 in labels with no predicted samples. Use `zero_division` parameter to control this behavior.\n",
      "  _warn_prf(average, modifier, msg_start, len(result))\n"
     ]
    },
    {
     "name": "stdout",
     "output_type": "stream",
     "text": [
      "Best parameters set found on development set:\n",
      "\n",
      "{'C': 10, 'gamma': 0.01, 'kernel': 'rbf'}\n",
      "\n",
      "Grid scores on development set:\n",
      "\n",
      "0.361 (+/-0.008) for {'C': 0.1, 'gamma': 0.001, 'kernel': 'rbf'}\n",
      "0.361 (+/-0.008) for {'C': 0.1, 'gamma': 0.01, 'kernel': 'rbf'}\n",
      "0.361 (+/-0.008) for {'C': 0.1, 'gamma': 0.1, 'kernel': 'rbf'}\n",
      "0.361 (+/-0.008) for {'C': 0.1, 'gamma': 1, 'kernel': 'rbf'}\n",
      "0.361 (+/-0.008) for {'C': 1, 'gamma': 0.001, 'kernel': 'rbf'}\n",
      "0.847 (+/-0.048) for {'C': 1, 'gamma': 0.01, 'kernel': 'rbf'}\n",
      "0.874 (+/-0.147) for {'C': 1, 'gamma': 0.1, 'kernel': 'rbf'}\n",
      "0.884 (+/-0.025) for {'C': 1, 'gamma': 1, 'kernel': 'rbf'}\n",
      "0.837 (+/-0.054) for {'C': 10, 'gamma': 0.001, 'kernel': 'rbf'}\n",
      "0.912 (+/-0.017) for {'C': 10, 'gamma': 0.01, 'kernel': 'rbf'}\n",
      "0.857 (+/-0.172) for {'C': 10, 'gamma': 0.1, 'kernel': 'rbf'}\n",
      "0.890 (+/-0.023) for {'C': 10, 'gamma': 1, 'kernel': 'rbf'}\n",
      "0.856 (+/-0.092) for {'C': 100, 'gamma': 0.001, 'kernel': 'rbf'}\n",
      "0.852 (+/-0.287) for {'C': 100, 'gamma': 0.01, 'kernel': 'rbf'}\n",
      "0.867 (+/-0.146) for {'C': 100, 'gamma': 0.1, 'kernel': 'rbf'}\n",
      "0.890 (+/-0.023) for {'C': 100, 'gamma': 1, 'kernel': 'rbf'}\n",
      "0.863 (+/-0.216) for {'C': 1000, 'gamma': 0.001, 'kernel': 'rbf'}\n",
      "0.820 (+/-0.217) for {'C': 1000, 'gamma': 0.01, 'kernel': 'rbf'}\n",
      "0.867 (+/-0.146) for {'C': 1000, 'gamma': 0.1, 'kernel': 'rbf'}\n",
      "0.890 (+/-0.023) for {'C': 1000, 'gamma': 1, 'kernel': 'rbf'}\n",
      "\n",
      "Detailed classification report:\n",
      "\n",
      "The model is trained on the full development set.\n",
      "The scores are computed on the full evaluation set.\n",
      "\n",
      "              precision    recall  f1-score   support\n",
      "\n",
      "           0       1.00      0.40      0.57        10\n",
      "           1       0.89      1.00      0.94        48\n",
      "\n",
      "    accuracy                           0.90        58\n",
      "   macro avg       0.94      0.70      0.76        58\n",
      "weighted avg       0.91      0.90      0.88        58\n",
      "\n",
      "\n",
      "# Tuning hyper-parameters for recall\n",
      "\n",
      "Best parameters set found on development set:\n",
      "\n",
      "{'C': 100, 'gamma': 0.1, 'kernel': 'rbf'}\n",
      "\n",
      "Grid scores on development set:\n",
      "\n",
      "0.500 (+/-0.000) for {'C': 0.1, 'gamma': 0.001, 'kernel': 'rbf'}\n",
      "0.500 (+/-0.000) for {'C': 0.1, 'gamma': 0.01, 'kernel': 'rbf'}\n",
      "0.500 (+/-0.000) for {'C': 0.1, 'gamma': 0.1, 'kernel': 'rbf'}\n",
      "0.500 (+/-0.000) for {'C': 0.1, 'gamma': 1, 'kernel': 'rbf'}\n",
      "0.500 (+/-0.000) for {'C': 1, 'gamma': 0.001, 'kernel': 'rbf'}\n",
      "0.704 (+/-0.188) for {'C': 1, 'gamma': 0.01, 'kernel': 'rbf'}\n",
      "0.749 (+/-0.220) for {'C': 1, 'gamma': 0.1, 'kernel': 'rbf'}\n",
      "0.606 (+/-0.098) for {'C': 1, 'gamma': 1, 'kernel': 'rbf'}\n",
      "0.713 (+/-0.195) for {'C': 10, 'gamma': 0.001, 'kernel': 'rbf'}\n",
      "0.771 (+/-0.148) for {'C': 10, 'gamma': 0.01, 'kernel': 'rbf'}\n",
      "0.853 (+/-0.099) for {'C': 10, 'gamma': 0.1, 'kernel': 'rbf'}\n",
      "0.631 (+/-0.095) for {'C': 10, 'gamma': 1, 'kernel': 'rbf'}\n",
      "0.755 (+/-0.142) for {'C': 100, 'gamma': 0.001, 'kernel': 'rbf'}\n",
      "0.800 (+/-0.207) for {'C': 100, 'gamma': 0.01, 'kernel': 'rbf'}\n",
      "0.866 (+/-0.071) for {'C': 100, 'gamma': 0.1, 'kernel': 'rbf'}\n",
      "0.631 (+/-0.095) for {'C': 100, 'gamma': 1, 'kernel': 'rbf'}\n",
      "0.777 (+/-0.207) for {'C': 1000, 'gamma': 0.001, 'kernel': 'rbf'}\n",
      "0.843 (+/-0.174) for {'C': 1000, 'gamma': 0.01, 'kernel': 'rbf'}\n",
      "0.866 (+/-0.071) for {'C': 1000, 'gamma': 0.1, 'kernel': 'rbf'}\n",
      "0.631 (+/-0.095) for {'C': 1000, 'gamma': 1, 'kernel': 'rbf'}\n",
      "\n",
      "Detailed classification report:\n",
      "\n",
      "The model is trained on the full development set.\n",
      "The scores are computed on the full evaluation set.\n",
      "\n",
      "              precision    recall  f1-score   support\n",
      "\n",
      "           0       0.89      0.80      0.84        10\n",
      "           1       0.96      0.98      0.97        48\n",
      "\n",
      "    accuracy                           0.95        58\n",
      "   macro avg       0.92      0.89      0.91        58\n",
      "weighted avg       0.95      0.95      0.95        58\n",
      "\n",
      "\n"
     ]
    }
   ],
   "source": [
    "tuning(fmerge_full, lmerge, x_test, y_test)"
   ]
  },
  {
   "cell_type": "code",
   "execution_count": 23,
   "metadata": {},
   "outputs": [],
   "source": [
    "def final( C, gamma, train_feature, train_label, target_feature, target_label, kernel='rbf' ):\n",
    "    clf = SVC(C=C, kernel=kernel, gamma=gamma)\n",
    "    clf.fit(train_feature, train_label)\n",
    "    result=clf.predict(target_feature)\n",
    "    print('Accuracy for c=', C,' and gamma=', gamma, '  is:\\n ', metrics.accuracy_score(target_label,result))\n",
    "    print('Classification report for c=', C,' and gamma=', gamma, '  is: ', classification_report(target_label,result))"
   ]
  },
  {
   "cell_type": "code",
   "execution_count": 80,
   "metadata": {},
   "outputs": [
    {
     "name": "stdout",
     "output_type": "stream",
     "text": [
      "Accuracy for c= 100  and gamma= 0.1   is:\n",
      "  0.9482758620689655\n",
      "Classification report for c= 100  and gamma= 0.1   is:                precision    recall  f1-score   support\n",
      "\n",
      "           0       0.89      0.80      0.84        10\n",
      "           1       0.96      0.98      0.97        48\n",
      "\n",
      "    accuracy                           0.95        58\n",
      "   macro avg       0.92      0.89      0.91        58\n",
      "weighted avg       0.95      0.95      0.95        58\n",
      "\n"
     ]
    }
   ],
   "source": [
    "final(100, 0.1, fmerge_full, lmerge, x_test, y_test)"
   ]
  },
  {
   "cell_type": "markdown",
   "metadata": {},
   "source": [
    "# "
   ]
  }
 ],
 "metadata": {
  "kernelspec": {
   "display_name": "Python 3",
   "language": "python",
   "name": "python3"
  },
  "language_info": {
   "codemirror_mode": {
    "name": "ipython",
    "version": 3
   },
   "file_extension": ".py",
   "mimetype": "text/x-python",
   "name": "python",
   "nbconvert_exporter": "python",
   "pygments_lexer": "ipython3",
   "version": "3.7.6"
  }
 },
 "nbformat": 4,
 "nbformat_minor": 4
}
